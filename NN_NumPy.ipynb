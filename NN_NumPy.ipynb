{
 "cells": [
  {
   "cell_type": "code",
   "execution_count": 1,
   "id": "5683e14b",
   "metadata": {},
   "outputs": [],
   "source": [
    "import numpy as np\n",
    "import pandas as pd\n",
    "import sklearn as sk\n",
    "from sklearn.preprocessing import StandardScaler"
   ]
  },
  {
   "cell_type": "code",
   "execution_count": 2,
   "id": "99218e34",
   "metadata": {},
   "outputs": [],
   "source": [
    "def sigmoid(x):\n",
    "    return 1 / (1 + np.exp(-x))\n",
    "def sigmoid_derivative(x):\n",
    "    return x * (1 - x)\n",
    "def relu(x):\n",
    "    return np.maximum(0, x)\n",
    "def relu_derivative(x):\n",
    "    return np.where(x > 0, 1, 0)"
   ]
  },
  {
   "cell_type": "code",
   "execution_count": 3,
   "id": "e70d75de",
   "metadata": {},
   "outputs": [],
   "source": [
    "def MSELoss(y_true, y_pred):\n",
    "    return np.mean((y_true - y_pred) ** 2)"
   ]
  },
  {
   "cell_type": "code",
   "execution_count": 4,
   "id": "22d152dc",
   "metadata": {},
   "outputs": [],
   "source": [
    "class Layer:\n",
    "    def __init__(self, input_size, output_size, activation = 'sigmoid'):\n",
    "        self.activation = activation\n",
    "        self.weights = np.random.rand(input_size, output_size) * np.sqrt(2. / input_size) \n",
    "        self.biases = np.random.randn(1, output_size) * 0.01\n",
    "    \n",
    "    def forward(self, inputs):\n",
    "        self.input = inputs\n",
    "        self.z = np.dot(inputs, self.weights) + self.biases\n",
    "        if self.activation == 'sigmoid':\n",
    "            self.output = sigmoid(self.z)\n",
    "        elif self.activation == 'relu':\n",
    "            self.output = relu(self.z)\n",
    "        if self.activation == 'linear':\n",
    "            self.output = self.z\n",
    "        return self.output\n",
    "    \n",
    "    def backward(self, output_error, learning_rate):\n",
    "        if self.activation == 'sigmoid':\n",
    "            activation_gradient = sigmoid_derivative(self.output)\n",
    "        elif self.activation == 'relu':\n",
    "            activation_gradient = relu_derivative(self.output)\n",
    "        else:\n",
    "            activation_gradient = np.ones_like(self.output)\n",
    "        \n",
    "\n",
    "        \n",
    "        input_gradient = np.dot(output_error * activation_gradient, self.weights.T)\n",
    "        weights_gradient = np.dot(self.input.T, output_error * activation_gradient)\n",
    "\n",
    "        max_grad = 1.0\n",
    "        weights_gradient = np.clip(weights_gradient, -max_grad, max_grad)\n",
    "        input_gradient = np.clip(input_gradient, -max_grad, max_grad)\n",
    "        self.weights -= learning_rate * weights_gradient\n",
    "        self.biases -= learning_rate * np.sum(output_error * activation_gradient, axis=0, keepdims=True)\n",
    "    \n",
    "        return input_gradient\n",
    "    "
   ]
  },
  {
   "cell_type": "code",
   "execution_count": 5,
   "id": "2d65d967",
   "metadata": {},
   "outputs": [],
   "source": [
    "class NeuralNetwork:\n",
    "    def __init__(self, layers):\n",
    "        self.layers = layers\n",
    "\n",
    "    def forward(self, inputs):\n",
    "        for layer in self.layers:\n",
    "            inputs = layer.forward(inputs)\n",
    "        return inputs\n",
    "\n",
    "    def backward(self, y_true, y_pred, learning_rate):\n",
    "        output_error =  - y_true + y_pred\n",
    "        for layer in reversed(self.layers):\n",
    "            output_error = layer.backward(output_error, learning_rate)\n",
    "\n",
    "    def train(self, X, y, epochs, learning_rate):\n",
    "        for epoch in range(epochs):\n",
    "            y_pred = self.forward(X)\n",
    "            self.backward(y, y_pred, learning_rate)\n",
    "            \n",
    "            if epoch % 100 == 0:\n",
    "                loss = np.mean(np.square(y - y_pred))\n",
    "                print(f'Epoch {epoch}, Loss: {loss}')\n",
    "\n",
    "    def predict(self, X):\n",
    "        return self.forward(X)\n",
    "    \n",
    "    def Loss(self, y_true, y_pred):\n",
    "        return MSELoss(y_true, y_pred)\n",
    "    "
   ]
  },
  {
   "cell_type": "code",
   "execution_count": 6,
   "id": "8b68b484",
   "metadata": {},
   "outputs": [
    {
     "name": "stdout",
     "output_type": "stream",
     "text": [
      "   age     sex     bmi  children smoker     region      charges\n",
      "0   19  female  27.900         0    yes  southwest  16884.92400\n",
      "1   18    male  33.770         1     no  southeast   1725.55230\n",
      "2   28    male  33.000         3     no  southeast   4449.46200\n",
      "3   33    male  22.705         0     no  northwest  21984.47061\n",
      "4   32    male  28.880         0     no  northwest   3866.85520\n"
     ]
    }
   ],
   "source": [
    "df = pd.read_csv('insurance (1).csv')\n",
    "print(df.head())"
   ]
  },
  {
   "cell_type": "code",
   "execution_count": 7,
   "id": "7d35e616",
   "metadata": {},
   "outputs": [],
   "source": [
    "df = pd.get_dummies(df, columns=[\"sex\", \"smoker\", \"region\"], drop_first=True)"
   ]
  },
  {
   "cell_type": "code",
   "execution_count": 8,
   "id": "5bbd3951",
   "metadata": {},
   "outputs": [],
   "source": [
    "target_col = 'charges'\n",
    "y = df[target_col].astype(int)\n",
    "X = df.drop(columns=[target_col])"
   ]
  },
  {
   "cell_type": "code",
   "execution_count": 9,
   "id": "0d75998d",
   "metadata": {},
   "outputs": [
    {
     "name": "stdout",
     "output_type": "stream",
     "text": [
      "        age       bmi  children  sex_male  smoker_yes  region\n",
      "0 -1.438764 -0.453320 -0.908614         0           1       3\n",
      "1 -1.509965  0.509621 -0.078767         1           0       2\n",
      "2 -0.797954  0.383307  1.580926         1           0       2\n",
      "3 -0.441948 -1.305531 -0.908614         1           0       1\n",
      "4 -0.513149 -0.292556 -0.908614         1           0       1\n"
     ]
    }
   ],
   "source": [
    "scaler = StandardScaler()\n",
    "numeric_cols = ['age', 'bmi', 'children']\n",
    "X_scaled_numeric = scaler.fit_transform(X[numeric_cols])\n",
    "bool_cols = ['sex_male', 'smoker_yes', 'region_northwest', 'region_southeast', 'region_southwest']\n",
    "\n",
    "region_map = {\n",
    "    'region_northwest': 1,\n",
    "    'region_southeast': 2,\n",
    "    'region_southwest': 3\n",
    "}\n",
    "region_cols = ['region_northwest', 'region_southeast', 'region_southwest']\n",
    "\n",
    "def get_region(row):\n",
    "    for col, val in region_map.items():\n",
    "        if row[col]:\n",
    "            return val\n",
    "    return 0\n",
    "\n",
    "for col in bool_cols + region_cols:\n",
    "    X[col] = X[col].astype(int)\n",
    "X['region'] = X[region_cols].apply(get_region, axis=1)\n",
    "bool_cols = ['sex_male', 'smoker_yes']\n",
    "X_scaled = pd.DataFrame(X_scaled_numeric, columns=numeric_cols, index=X.index)\n",
    "X_scaled[bool_cols] = X[bool_cols]\n",
    "X_scaled['region'] = X['region']\n",
    "print(X_scaled.head())"
   ]
  },
  {
   "cell_type": "code",
   "execution_count": 10,
   "id": "e276361e",
   "metadata": {},
   "outputs": [
    {
     "name": "stdout",
     "output_type": "stream",
     "text": [
      "(1338, 6)\n",
      "(1338,)\n"
     ]
    }
   ],
   "source": [
    "print(X_scaled.shape)\n",
    "print(y.shape)"
   ]
  },
  {
   "cell_type": "code",
   "execution_count": 11,
   "id": "3f1cf4c3",
   "metadata": {},
   "outputs": [
    {
     "name": "stdout",
     "output_type": "stream",
     "text": [
      "(1338, 6)\n",
      "(1338,)\n"
     ]
    }
   ],
   "source": [
    "X_train = X_scaled\n",
    "y_train = y\n",
    "print(X_train.shape)\n",
    "print(y_train.shape)"
   ]
  },
  {
   "cell_type": "code",
   "execution_count": 12,
   "id": "c8fec21e",
   "metadata": {},
   "outputs": [],
   "source": [
    "X_check = X_scaled.sample(frac=0.2, random_state=42)\n",
    "# Split X_train and y_train into 60% train, 20% validation, 20% check\n",
    "# First, split 20% for check set\n",
    "X_check = X_train.sample(frac=0.2, random_state=42)\n",
    "X_train_remain = X_train.drop(X_check.index)\n",
    "y_check = y_train.loc[X_check.index]\n",
    "y_train_remain = y_train.drop(X_check.index)\n",
    "\n",
    "\n",
    "X_train = X_train_remain\n",
    "y_train = y_train_remain\n",
    "y_check = y.loc[X_check.index]"
   ]
  },
  {
   "cell_type": "code",
   "execution_count": 13,
   "id": "86bae1f5",
   "metadata": {},
   "outputs": [
    {
     "name": "stdout",
     "output_type": "stream",
     "text": [
      "(1070, 6)\n",
      "(1070,)\n"
     ]
    }
   ],
   "source": [
    "print(X_train.shape)\n",
    "print(y_train.shape)"
   ]
  },
  {
   "cell_type": "code",
   "execution_count": 14,
   "id": "95cf0330",
   "metadata": {},
   "outputs": [
    {
     "name": "stdout",
     "output_type": "stream",
     "text": [
      "(268, 6)\n",
      "(268,)\n"
     ]
    }
   ],
   "source": [
    "print(X_check.shape)\n",
    "print(y_check.shape)"
   ]
  },
  {
   "cell_type": "code",
   "execution_count": 15,
   "id": "5230bb65",
   "metadata": {},
   "outputs": [],
   "source": [
    "Layer1 = Layer(input_size=X_train.shape[1], output_size=128, activation='relu')\n",
    "Layer2 = Layer(input_size=128, output_size=64, activation='relu')\n",
    "Layer3 = Layer(input_size=64, output_size=32, activation='relu')\n",
    "Layer4 = Layer(input_size=32, output_size=1, activation='linear')\n",
    "model = NeuralNetwork(layers=[Layer1, Layer2, Layer3, Layer4])"
   ]
  },
  {
   "cell_type": "code",
   "execution_count": 16,
   "id": "4e039bde",
   "metadata": {},
   "outputs": [
    {
     "name": "stdout",
     "output_type": "stream",
     "text": [
      "[[-1.43876426 -0.45332    -0.90861367  0.          1.          3.        ]\n",
      " [-1.50996545  0.5096211  -0.07876719  1.          0.          2.        ]\n",
      " [-0.79795355  0.38330685  1.58092576  1.          0.          2.        ]\n",
      " ...\n",
      " [-1.50996545  1.0148781  -0.90861367  0.          0.          2.        ]\n",
      " [-1.29636188 -0.79781341 -0.90861367  0.          0.          3.        ]\n",
      " [ 1.55168573 -0.26138796 -0.90861367  0.          1.          1.        ]]\n"
     ]
    }
   ],
   "source": [
    "X_train = np.array(X_train)\n",
    "y_train = np.array(y_train).reshape(-1, 1)\n",
    "print(X_train)"
   ]
  },
  {
   "cell_type": "code",
   "execution_count": 17,
   "id": "0d21d68e",
   "metadata": {},
   "outputs": [],
   "source": [
    "X_check = np.array(X_check)\n",
    "y_check = np.array(y_check).reshape(-1, 1)"
   ]
  },
  {
   "cell_type": "code",
   "execution_count": 18,
   "id": "8ed1bd95",
   "metadata": {},
   "outputs": [
    {
     "name": "stdout",
     "output_type": "stream",
     "text": [
      "Epoch 0, Loss: 318884497.8300604\n"
     ]
    },
    {
     "name": "stdout",
     "output_type": "stream",
     "text": [
      "Epoch 100, Loss: 142385384.23501605\n",
      "Epoch 200, Loss: 132092914.93735643\n",
      "Epoch 300, Loss: 110163284.23413542\n",
      "Epoch 400, Loss: 81357646.4162517\n",
      "Epoch 500, Loss: 61057812.99806573\n",
      "Epoch 600, Loss: 47198588.13036938\n",
      "Epoch 700, Loss: 41525602.56426427\n",
      "Epoch 800, Loss: 40675128.94408897\n",
      "Epoch 900, Loss: 41623505.34882893\n"
     ]
    }
   ],
   "source": [
    "model.train(X_train, y_train, epochs=1000, learning_rate=0.001)"
   ]
  },
  {
   "cell_type": "code",
   "execution_count": 19,
   "id": "9b969459",
   "metadata": {},
   "outputs": [
    {
     "name": "stdout",
     "output_type": "stream",
     "text": [
      "43261530.95714483\n"
     ]
    }
   ],
   "source": [
    "print(model.Loss(y_check, model.predict(X_check)))"
   ]
  }
 ],
 "metadata": {
  "kernelspec": {
   "display_name": "Python 3",
   "language": "python",
   "name": "python3"
  },
  "language_info": {
   "codemirror_mode": {
    "name": "ipython",
    "version": 3
   },
   "file_extension": ".py",
   "mimetype": "text/x-python",
   "name": "python",
   "nbconvert_exporter": "python",
   "pygments_lexer": "ipython3",
   "version": "3.12.3"
  }
 },
 "nbformat": 4,
 "nbformat_minor": 5
}
